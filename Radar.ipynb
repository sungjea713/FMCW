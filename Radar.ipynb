{
  "nbformat": 4,
  "nbformat_minor": 0,
  "metadata": {
    "colab": {
      "name": "Radar.ipynb",
      "version": "0.3.2",
      "provenance": [],
      "include_colab_link": true
    },
    "kernelspec": {
      "name": "python3",
      "display_name": "Python 3"
    }
  },
  "cells": [
    {
      "cell_type": "markdown",
      "metadata": {
        "id": "view-in-github",
        "colab_type": "text"
      },
      "source": [
        "<a href=\"https://colab.research.google.com/github/sungjea713/FMCW/blob/master/Radar.ipynb\" target=\"_parent\"><img src=\"https://colab.research.google.com/assets/colab-badge.svg\" alt=\"Open In Colab\"/></a>"
      ]
    },
    {
      "cell_type": "markdown",
      "metadata": {
        "id": "wTkU6CCmfiA8",
        "colab_type": "text"
      },
      "source": [
        "Radar\n",
        "\n",
        "해야할일\n",
        "<ul>\n",
        "  <li>FMCW 신호 모델링</li>\n",
        "  <li>\n",
        "</ul>\n",
        "\n",
        "FMCW(Frequency Modulation Continuous Wave)\n",
        "![대체 텍스트](http://www.emagtech.com/wiki/images/thumb/a/a8/SysTUT7_5.png/600px-SysTUT7_5.png)\n",
        "\n",
        "\n",
        "기존 classical chirp sequence waveform은 verolity measurement에서 모호성을 가지는 문제가 있다.\n",
        "(New Waveform based on a Chirp Sequence)\n",
        "\n",
        "$$T_s$$\n"
      ]
    },
    {
      "cell_type": "code",
      "metadata": {
        "id": "YlC2b2V7g5ze",
        "colab_type": "code",
        "colab": {
          "base_uri": "https://localhost:8080/",
          "height": 193
        },
        "outputId": "2ec03e31-bcab-4b83-c25e-e1507abbcf80"
      },
      "source": [
        "import time\n",
        "for i in range(0, 10, 1):\n",
        "  print(i)\n",
        "  time.sleep(1)"
      ],
      "execution_count": 1,
      "outputs": [
        {
          "output_type": "stream",
          "text": [
            "0\n",
            "1\n",
            "2\n",
            "3\n",
            "4\n",
            "5\n",
            "6\n",
            "7\n",
            "8\n",
            "9\n"
          ],
          "name": "stdout"
        }
      ]
    }
  ]
}