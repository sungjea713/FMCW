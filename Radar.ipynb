{
  "nbformat": 4,
  "nbformat_minor": 0,
  "metadata": {
    "colab": {
      "name": "Radar.ipynb",
      "version": "0.3.2",
      "provenance": [],
      "include_colab_link": true
    },
    "kernelspec": {
      "name": "python3",
      "display_name": "Python 3"
    }
  },
  "cells": [
    {
      "cell_type": "markdown",
      "metadata": {
        "id": "view-in-github",
        "colab_type": "text"
      },
      "source": [
        "<a href=\"https://colab.research.google.com/github/sungjea713/FMCW/blob/master/Radar.ipynb\" target=\"_parent\"><img src=\"https://colab.research.google.com/assets/colab-badge.svg\" alt=\"Open In Colab\"/></a>"
      ]
    },
    {
      "cell_type": "markdown",
      "metadata": {
        "id": "wTkU6CCmfiA8",
        "colab_type": "text"
      },
      "source": [
        "Radar\n",
        "\n",
        "해야할일\n",
        "<ul> - From choi\n",
        "  <li>FMCW 신호 모델링</li>\n",
        "  <li>TxRx 모델링</li>\n",
        "  <li>Range Doppler 추정</li>\n",
        "  <li>Range Resolution</li>\n",
        "  <li>Doppler Resolution</li>\n",
        "</ul>\n",
        "\n",
        "<ul> -From Kim\n",
        "  <li>(in-cabin) Test IWR6843(AOP모듈, RM68-P1), 3D Point들이 어떻게 감지되는지 1주일 ~ 7/17</li>\n",
        "  <li>Passanger Detection</li>\n",
        "  <li>Classification 성인/아기(Position Detection -> Demo Program)</li>\n",
        "</ul>\n",
        "\n",
        "\n",
        "FMCW(Frequency Modulation Continuous Wave)\n",
        "![대체 텍스트](http://www.emagtech.com/wiki/images/thumb/a/a8/SysTUT7_5.png/600px-SysTUT7_5.png)\n",
        "\n",
        "![대체 텍스트](https://github.com/sungjea713/FMCW/blob/master/Images/Transmitter_DualChanel_Receiver.png?raw=true)\n",
        "\n",
        "Transmitter Dual Channel(I/Q Channel) Receiver\n",
        "\n",
        "기존 CW에서는 Transmit Wave와 Receive Wage 간 $f_B$(beat frequency)가 양수, 음수가 될 수 있으므로 I, Q 채널이 필요하다. $f_B$는 target range $R$과 radial velocity $v_R$에 동시에 영향을 받는다. \n",
        "\n",
        "![대체 텍스트](https://github.com/sungjea713/FMCW/blob/master/Images/FMCW.PNG?raw=true)\n",
        "\n",
        "carrier frequency $f_0$로부터 시간 $\\tau$가 흐르면 $f_R$만큼의 frequencey shifting이 일어나며 \n",
        "\n",
        "기존 classical chirp sequence waveform은 verolity measurement에서 모호성을 가지는 문제가 있다.\n",
        "(New Waveform based on a Chirp Sequence)\n",
        "\n",
        "$$T_s$$\n"
      ]
    },
    {
      "cell_type": "code",
      "metadata": {
        "id": "YlC2b2V7g5ze",
        "colab_type": "code",
        "colab": {
          "base_uri": "https://localhost:8080/",
          "height": 193
        },
        "outputId": "2ec03e31-bcab-4b83-c25e-e1507abbcf80"
      },
      "source": [
        "import time\n",
        "for i in range(0, 10, 1):\n",
        "  print(i)\n",
        "  time.sleep(1)"
      ],
      "execution_count": 1,
      "outputs": [
        {
          "output_type": "stream",
          "text": [
            "0\n",
            "1\n",
            "2\n",
            "3\n",
            "4\n",
            "5\n",
            "6\n",
            "7\n",
            "8\n",
            "9\n"
          ],
          "name": "stdout"
        }
      ]
    }
  ]
}