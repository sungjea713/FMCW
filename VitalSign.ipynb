{
  "nbformat": 4,
  "nbformat_minor": 0,
  "metadata": {
    "colab": {
      "name": "VitalSign.ipynb",
      "version": "0.3.2",
      "provenance": [],
      "collapsed_sections": [],
      "include_colab_link": true
    },
    "kernelspec": {
      "name": "python3",
      "display_name": "Python 3"
    }
  },
  "cells": [
    {
      "cell_type": "markdown",
      "metadata": {
        "id": "view-in-github",
        "colab_type": "text"
      },
      "source": [
        "<a href=\"https://colab.research.google.com/github/sungjea713/FMCW/blob/master/VitalSign.ipynb\" target=\"_parent\"><img src=\"https://colab.research.google.com/assets/colab-badge.svg\" alt=\"Open In Colab\"/></a>"
      ]
    },
    {
      "cell_type": "markdown",
      "metadata": {
        "id": "8YJifZfbm1r1",
        "colab_type": "text"
      },
      "source": [
        "* Breathing과 Respiration 차이\n",
        "\n",
        "![대체 텍스트](https://github.com/sungjea713/FMCW/blob/master/Images/BreathingRespirationDifference.jpg?raw=true)\n",
        "\n"
      ]
    },
    {
      "cell_type": "markdown",
      "metadata": {
        "id": "8biYy1Bhnw64",
        "colab_type": "text"
      },
      "source": [
        "논문 요약 DeepBreath: Deep learning of Breathing Patterns for Automatic Stress Recognition using Low-Cost Thermal Imaging in Unconstrained Settings(Youngjun Cho)\n",
        "\n",
        "**Breathing and stress**\n",
        "\n",
        "- Mcduff et all 논문(Contact free measurement of Cognitive Stress During Computer Tasks with a Digital Camera)에서 Stress와 Relax 상태를 Classification 하지만 heart rate, heartrate variability(HRV), breathing rate를 고려했다 breathing rate은 minor한 부분\n",
        "* Respiration의 변화가 모호\n",
        "- Masaoka et al 논문(Anxiety and repiratory patterns)에서는 mental stress동안 breathing rate가 올라간다\n",
        "- 반면 Hong et all 논문(Understanding physiological responses to sressors)에서는 stress동안 심각하게 저하된다.\n",
        "\n",
        "**Deep learning for affective computing**\n",
        "\n",
        "- physiological behavioural pattern 분석에 용이할 수 있다.\n",
        "- Liu et al(Facial Expression Recognition via a Boosted Deep Belief Network)에서 얼굴 표정으로부터 성격 특성을 관련지었다.\n",
        "- Lane et al(Deep ear: Robust smartphone Audio sensing in Unconstrained Acoustic Environments Using deep learning)에서는 large scale speech 데이터 넷을 분석하여 (coupled deep neural network를 통해) 스트레스를 detection 했다.\n",
        "- 위 논문들은 shallow learning(SVM, Gaussian mixture model)보다 좋은 성능을 가져왔다. \n",
        "- 최근 CNN이 각광받고 있다. \n",
        "- But 대부분의 physiological signal들이 uni-dimensionality이고 데이터 양이 적기 때문에 CNN 적용이 힘들다\n",
        "- 따라서 논문에서는 breathing pattern을 2차원으로 표현하며(패턴 복잡도를 capturing할 수 있도록 조작 없이) 데이터 증가 알고리즘을 통해 CNN을 사용할 수 있도록 한다. \n",
        "\n",
        "**DeepBreath: Design and Algorithm**\n",
        "\n",
        "- 콧구멍으로부터 55센치 떨어진 거리에서 열화상 카메라로 respiration tracking algorithm을 적용\n",
        "- 일차원 데이터로(시간에 따른 respiration rate 값의 열)을 2차원 spectogram으로 변경 (short-time-window 내에서 PSD 벡터를 time 에 따라 겹겹이 쌓아감)\n",
        "\n",
        "피실험자에게 스트레스 테스르(Stroop, math)를 진행하며 respiration 측정, 이를 PSD stack을 쌓아 spectogram을 capture하여 CNN을 돌려 스트레스 레벨을 classification 함"
      ]
    },
    {
      "cell_type": "markdown",
      "metadata": {
        "id": "P4J7dU0rGWaa",
        "colab_type": "text"
      },
      "source": [
        "The respiratory rate is a vital sign with an underappreciated significance that can, in acute situations, prognosticate patients’ mortality rate and need for invasive ventilation. In addition, identifying abnormal breathing\n",
        "patterns can localize disorders within the respiratory system and help refine the differential diagnosis. Understanding how to properly measure and interpret the respiratory rate is a valuable clinical skill."
      ]
    },
    {
      "cell_type": "markdown",
      "metadata": {
        "id": "T4RiohLlohK7",
        "colab_type": "text"
      },
      "source": [
        "A Study of breathing pattern and ventilation in newborn infants and adult subjects\n",
        "baby classification의 중요한 단서\n",
        "\n",
        "1. 세그룹으로 분류 preterm, term, adult\n",
        "2. 측정 요소: Minute ventilation ($V_E = f \\times V_T$), respiratory frequency($f$), tidal volume($V_T$), inspiratory time($T_i$), expiratory time($T_e$), 등등..\n",
        "3. 아기가 성인보다 $f$ 값이 훨씬 높다\n",
        "4. 높은 $f$값으로 인해 $V_E$값이 아기가 훨씬 높다 \n",
        "5. 절대 수치 이외에 variation 수치에 관한 분석\n",
        "6. 아이의 상태가 unstable 하다.\n",
        "7. $V_E$, $f$, $V_T$의 coefficient of variation 값이 모두 아이가 더 크다. \n",
        "8. $T_i / T_{tot}$의 비율이 아이는 34%, 성인은 45%정도의 차이를 보인다. \n",
        "9. T_e의 variation이 81%로 월등히 크다. (성인 13%)\n",
        "10, 중추신경계(Central nervous system)의 미성숙 수상돌기 수지상부가 부족한 것이 개인간 instability의 주된 요인중 하나이다.\n",
        "11. 뻑뻑한 폐와 유연한 가슴 벽으로 인해 기능적 장애가 발생한 것이 요인\n",
        "12. 아이의 폐가 임피던스가 높다.\n",
        "13. 횡격막의 inspiratory 활동량의 증가와 상부 airway 저항의 증가로 인해 폐의 볼륨을 유지하고 약한 가슴벽의 반동으로 인한 붕괴를 예방하기 위한 결과로 추정됨. \n",
        "\n",
        "![대체 텍스트](https://github.com/sungjea713/FMCW/blob/master/Images/figu1.png?raw=true)\n",
        "\n",
        "\n",
        "![대체 텍스트](https://github.com/sungjea713/FMCW/blob/master/Images/figu2.png?raw=true)\n",
        "\n",
        "![대체 텍스트](https://github.com/sungjea713/FMCW/blob/master/Images/figu3.png?raw=true)\n",
        "\n",
        "![대체 텍스트](https://github.com/sungjea713/FMCW/blob/master/Images/figu4.png?raw=true)\n",
        "\n",
        "![대체 텍스트](https://github.com/sungjea713/FMCW/blob/master/Images/figu5.png?raw=true)\n"
      ]
    }
  ]
}